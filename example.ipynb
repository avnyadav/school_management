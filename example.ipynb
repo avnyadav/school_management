{
 "cells": [
  {
   "cell_type": "code",
   "execution_count": null,
   "metadata": {},
   "outputs": [],
   "source": []
  }
 ],
 "metadata": {
  "kernelspec": {
   "display_name": "Python 3.8.8 ('base')",
   "language": "python",
   "name": "python3"
  },
  "language_info": {
   "name": "python",
   "version": "3.8.8"
  },
  "orig_nbformat": 4,
  "vscode": {
   "interpreter": {
    "hash": "0e1383718f992257f9bf6a4bf16f07e9e624a01f049e8f571f563c900934bbce"
   }
  }
 },
 "nbformat": 4,
 "nbformat_minor": 2
}
